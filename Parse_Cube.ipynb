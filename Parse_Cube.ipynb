{
 "cells": [
  {
   "cell_type": "code",
   "execution_count": 1,
   "metadata": {},
   "outputs": [],
   "source": [
    "def parse_log(ifile):\n",
    "    dall=open(ifile,'br').read()\n",
    "    mall=dall.decode('u8')\n",
    "    mall=mall.split('\\n')\n",
    "    isel=[i for i in range(len(mall)) if mall[i][2:8]=='magMPU']\n",
    "    print('found %i magn. entries'%len(isel))\n",
    "    from datetime import datetime\n",
    "    gpslst=[]\n",
    "    for i in isel:\n",
    "        p=mall[i-6][20:]\n",
    "        try:\n",
    "            dm=datetime.strptime(p[:p.rfind(\" \")],\"%Y-%m-%d %H:%M:%S\")\n",
    "            gpslst.append(dm)\n",
    "        except:\n",
    "            gpslst.append(None)\n",
    "    obc=np.array([mall[i][15:].strip().split(',') for i in isel])\n",
    "    lode=np.array([mall[i-1][15:].strip().split(',') for i in isel])\n",
    "    obc=obc.astype(int)\n",
    "    lode=lode.astype(int)\n",
    "    \n",
    "    hsel=[i for i in range(len(mall)) if mall[i].find('edi hk')>=0]\n",
    "    ehklst=[]\n",
    "    for i in hsel:\n",
    "        p=mall[i+1]\n",
    "        if not p.find('UTC')>0:\n",
    "            ehklst.append(None)\n",
    "        p=p[p.find('UTC')+4:].strip()\n",
    "        dm=datetime.strptime(p[:p.rfind(\")\")],\"%d.%m.%Y %H:%M:%S\")\n",
    "        ehklst.append(dm)\n",
    "    print('found %i edi entries'%len(hsel))\n",
    "    d0=ehklst[0]\n",
    "    qlat=[(e-d0).seconds for e in ehklst if e!=None]\n",
    "    #qhash={hsel[j+1]:qlat[j] for j in range(len(hsel)-1)}\n",
    "    ahsel=np.array(hsel)\n",
    "    hpos=[sum(ahsel<i-6) for i in isel]\n",
    "    time=np.array([(qlat[h],(gpslst[i]-d0).seconds) for i,h in enumerate(hpos)])\n",
    "    print(\"start time \",d0)\n",
    "    return time,obc,lode,isel"
   ]
  },
  {
   "cell_type": "code",
   "execution_count": 7,
   "metadata": {},
   "outputs": [],
   "source": [
    "indir=\"/Users/Admin/Documents/Lab/Astro/GRB/\"\n",
    "import os\n",
    "from datetime import datetime\n",
    "dats=[d.split('_')[1] for d in os.listdir(indir) if len(d)>20]\n",
    "dats=[datetime.strptime(d,'%Y%m%d-%H%M%S') for d in dats]"
   ]
  },
  {
   "cell_type": "code",
   "execution_count": 9,
   "metadata": {},
   "outputs": [],
   "source": []
  },
  {
   "cell_type": "code",
   "execution_count": 10,
   "metadata": {},
   "outputs": [
    {
     "data": {
      "text/plain": [
       "[datetime.datetime(2021, 4, 13, 0, 0, 52),\n",
       " datetime.datetime(2021, 4, 24, 23, 7, 23),\n",
       " datetime.datetime(2021, 5, 2, 9, 24, 49),\n",
       " datetime.datetime(2021, 5, 2, 11, 2, 21),\n",
       " datetime.datetime(2021, 5, 3, 22, 27, 15),\n",
       " datetime.datetime(2021, 5, 6, 10, 43, 26),\n",
       " datetime.datetime(2021, 5, 7, 23, 44, 37),\n",
       " datetime.datetime(2021, 5, 8, 10, 34, 7),\n",
       " datetime.datetime(2021, 5, 11, 10, 20, 25),\n",
       " datetime.datetime(2021, 5, 21, 9, 35, 6),\n",
       " datetime.datetime(2021, 5, 21, 9, 35, 6),\n",
       " datetime.datetime(2021, 5, 21, 22, 41, 55),\n",
       " datetime.datetime(2021, 5, 23, 0, 12, 58)]"
      ]
     },
     "execution_count": 10,
     "metadata": {},
     "output_type": "execute_result"
    }
   ],
   "source": [
    "dats"
   ]
  },
  {
   "cell_type": "code",
   "execution_count": null,
   "metadata": {},
   "outputs": [],
   "source": []
  }
 ],
 "metadata": {
  "kernelspec": {
   "display_name": "Python 3 (ipykernel)",
   "language": "python",
   "name": "python3"
  },
  "language_info": {
   "codemirror_mode": {
    "name": "ipython",
    "version": 3
   },
   "file_extension": ".py",
   "mimetype": "text/x-python",
   "name": "python",
   "nbconvert_exporter": "python",
   "pygments_lexer": "ipython3",
   "version": "3.10.2"
  }
 },
 "nbformat": 4,
 "nbformat_minor": 4
}
