{
 "cells": [
  {
   "cell_type": "markdown",
   "id": "c1d3715f-b467-4d17-b37c-c417b5491a1c",
   "metadata": {},
   "source": [
    "# Attitude determination"
   ]
  },
  {
   "cell_type": "markdown",
   "id": "c28a87f3-29b4-46bd-8673-4ae03532f78a",
   "metadata": {},
   "source": [
    "## august campaign\n",
    "\n",
    "### load data from logs"
   ]
  },
  {
   "cell_type": "code",
   "execution_count": 2,
   "id": "23074210-c19d-434d-b5b8-ae4e9ae3c680",
   "metadata": {},
   "outputs": [
    {
     "data": {
      "text/plain": [
       "Index(['RealTimeStamp', 'DK EpochTimeStamp [s]', 'DK TimeStamp', 'CunkID',\n",
       "       'ChunkType', 'Length [B]', 'LdSt magX [nT]', 'LdSt magY [nT]',\n",
       "       'LdSt magZ [nT]', 'LdStTot [nT]', 'OBC magX [nT]', 'OBC magY [nT]',\n",
       "       'OBC magZ [nT]', 'OBCtot [nT]', 'OBC_9DOF_Temp [*C]',\n",
       "       'OBCgyroX [deg/s]', 'OBCgyroY [deg/s]', 'OBCgyroZ [deg/s]',\n",
       "       'OBCaccX [mG]', 'OBCaccY [mG]', 'OBCaccZ [mG]', 'SolT X+ [*C]',\n",
       "       'SolT Y+ [*C]', 'SolT X- [*C]', 'SolT Y- [*C]', 'SolT Z- [*C]',\n",
       "       'OBC_Temp [*C]', 'ssTemp(X+) [*C]', 'ssTemp(Y+) [*C]',\n",
       "       'ssTemp(X-) [*C]', 'ssTemp(Y-) [*C]', 'ssTemp(Z-) [*C]', 'ssIRRad(X+)',\n",
       "       'ssIRRad(Y+)', 'ssIRRad(X-)', 'ssIRRad(Y-)', 'ssIRRad(Z-)',\n",
       "       'ssAngleX (X+) [deg]', 'ssAngleY (X+) [deg]', 'ssAngleX (Y+) [deg]',\n",
       "       'ssAngleY (Y+) [deg]', 'ssAngleX (X-) [deg]', 'ssAngleY (X-) [deg]',\n",
       "       'ssAngleX (Y-) [deg]', 'ssAngleY (Y-) [deg]', 'ssAngleX (Z-) [deg]',\n",
       "       'ssAngleY (Z-) [deg]', 'ssGyroX (X+) [deg/s]', 'ssGyroY (X+) [deg/s]',\n",
       "       'ssGyroX (Y+) [deg/s]', 'ssGyroY (Y+) [deg/s]', 'ssGyroX (X-) [deg/s]',\n",
       "       'ssGyroY (X-) [deg/s]', 'ssGyroX (Y-) [deg/s]', 'ssGyroY (Y-) [deg/s]',\n",
       "       'ssGyroX (Z-) [deg/s]', 'ssGyroY (Z-) [deg/s]'],\n",
       "      dtype='object')"
      ]
     },
     "execution_count": 2,
     "metadata": {},
     "output_type": "execute_result"
    }
   ],
   "source": [
    "indir=\"/home/limu/Lab/Alpha/station/processed_jr/\"\n",
    "date='2021-08-10'\n",
    "import os\n",
    "import pandas as pd\n",
    "#aug1=pd.read_csv(indir+date+'/hk_data_decoded.txt',delimiter='\\t')\n",
    "aug1=pd.read_csv(\"/home/limu/Space/logs/alpha/hk_data_august_last.txt\",delimiter='\\t')\n",
    "aug1.columns"
   ]
  },
  {
   "cell_type": "code",
   "execution_count": 4,
   "id": "f68697a4-fd57-472f-944e-f0925e7e0680",
   "metadata": {},
   "outputs": [],
   "source": [
    "mok=aug1\n",
    "%matplotlib inline\n",
    "import matplotlib.pyplot as pl\n",
    "import numpy as np\n",
    "from datetime import datetime,timedelta\n",
    "mags=np.array([np.array(mok[mok.columns[6+i]]) for i in range(3)]).T\n",
    "mags=mags[1:-1]"
   ]
  },
  {
   "cell_type": "code",
   "execution_count": 104,
   "id": "c2422926-7a8e-4086-9c67-2ddbfa3af58b",
   "metadata": {},
   "outputs": [],
   "source": [
    "irpos=[i for i in range(len(mok.columns)) if mok.columns[i].find(\"IRR\")>0]\n",
    "rep=[]\n",
    "qth = (48.7408,-21.2284,380)\n",
    "from astropy import coordinates as coord\n",
    "from astropy import units as u\n",
    "import predict\n",
    "tle= \"\"\"GRBALPHA                \n",
    "1 47959U 21022AD  22063.19213865  .00002067  00000+0  14319-3 0  9994\n",
    "2 47959  97.5413 324.9761 0022167 141.3192  11.3230 15.06545409 50965\"\"\"\n",
    "pars=['longitude','latitude','altitude','epoch']\n",
    "kosice=coord.EarthLocation.from_geodetic(qth[1],-qth[0],qth[2])#,unit=(u.degree, u.degree,u.meter))\n",
    "kosrad=np.sqrt(sum(np.array(kosice.value.tolist())**2))*1e-3 #earth distance in km\n",
    "\n",
    "for d in mok['DK TimeStamp']:\n",
    "    x=datetime.strptime(d,\"%d-%m-%Y %H:%M:%S\")\n",
    "    y=predict.observe(tle, qth, at=x.timestamp())\n",
    "    rep.append([y['longitude'],y['latitude'],y['altitude']])\n",
    "rep=np.array(rep).T\n",
    "if rep[0].max()-rep[0].min()>200:rep[0]=(rep[0]+180)%360-180"
   ]
  },
  {
   "cell_type": "code",
   "execution_count": 105,
   "id": "d88cde1c-8e45-4067-996e-4844133396d8",
   "metadata": {},
   "outputs": [
    {
     "data": {
      "text/plain": [
       "[array([-0.089067  ,  0.26239306,  0.96084179]),\n",
       " array([-0.08945222,  0.26472176,  0.96016701])]"
      ]
     },
     "execution_count": 105,
     "metadata": {},
     "output_type": "execute_result"
    }
   ],
   "source": [
    "from periodogram import get_mag_dir\n",
    "\n",
    "pomag=[]\n",
    "for i in [0,len(rep)-1]:\n",
    "    day=mok['DK TimeStamp'][i].split(' ')[0]\n",
    "    day='-'.join(day.split('-')[::-1])\n",
    "    pomag.append(get_mag_dir(day,rep[0][i],rep[1][i],rep[2][i]))\n",
    "    \n",
    "pom1,pom2=pomag[0],pomag[-1]\n",
    "vecs=[np.array([dic[t+'-intensity'] for t in ['east','north','vertical']]) for dic in pomag]#'declination'] \n",
    "norm=lambda v:np.sqrt(np.dot(v,v))\n",
    "nvecs=[v/norm(v) for v in vecs]\n",
    "nvecs"
   ]
  },
  {
   "cell_type": "code",
   "execution_count": 106,
   "id": "fcc1fde6-ea92-4566-a0b8-c03088b595a9",
   "metadata": {},
   "outputs": [],
   "source": [
    "satcoor2=[coord.EarthLocation.from_geodetic(r[0],r[1],r[2]*1e3) for r in rep.T] \n",
    "times=[datetime.strptime(m,\"%d-%m-%Y %H:%M:%S\") for m in mok['DK TimeStamp']]\n"
   ]
  },
  {
   "cell_type": "code",
   "execution_count": 107,
   "id": "ef733360-80ab-4aec-9e74-49f23d119732",
   "metadata": {},
   "outputs": [
    {
     "data": {
      "text/plain": [
       "<module 'periodogram' from '/home/limu/Code/Notebook/Astro/cube/periodogram.py'>"
      ]
     },
     "execution_count": 107,
     "metadata": {},
     "output_type": "execute_result"
    }
   ],
   "source": [
    "from imp import reload\n",
    "import periodogram as pg\n",
    "reload(periodogram)"
   ]
  },
  {
   "cell_type": "code",
   "execution_count": 108,
   "id": "bfa12b91-30e2-403a-a556-4aa1953acd26",
   "metadata": {},
   "outputs": [],
   "source": [
    "sunvec_hall=np.array([pg.sun_vec_CHall(t) for t in times])\n",
    "#some \"eye\" estimate\n",
    "irvec=np.array([[0,-0.9,np.sqrt(0.19)],[-0.9/np.sqrt(2),-0.9/np.sqrt(2),np.sqrt(0.19)],[-0.8,-np.sqrt(0.17),np.sqrt(0.19)],])"
   ]
  },
  {
   "cell_type": "code",
   "execution_count": 109,
   "id": "4e0dc2fa-720a-4ed5-901c-5a74ca7b9621",
   "metadata": {},
   "outputs": [],
   "source": [
    "all_rot=[]\n",
    "from satutils import triad\n",
    "dt=np.array([(t-times[0]).seconds for t in times])\n",
    "dtot=dt[-1]\n",
    "magdir=[coord.SkyCoord(pomag[i]['inclination'],pomag[i]['declination'],unit=\"deg\",frame=\"altaz\",location=satcoor2[i],obstime=times[i]) for i in [0,-1]]\n",
    "magvec=[np.array([c.x.value,c.y.value,c.z.value]) for c in [m.fk5.cartesian for m in magdir]]\n",
    "magvec=[m/norm(m) for m in magvec]\n",
    "mag_inter = lambda t:(t/dtot*magvec[1]+(1-t/dtot)*magvec[0])\n",
    "\n",
    "for i in [0,1,2]:\n",
    "    t_body=triad(mags[i]/norm(mags[i]),irvec[i]) #body frame\n",
    "    t_equa=triad(mag_inter(dt[i]),sunvec_hall[i]) #ra dec frame\n",
    "    #rot_body_equa=t_equa.T@t_body\n",
    "    all_rot.append(t_equa.T@t_body)\n"
   ]
  },
  {
   "cell_type": "code",
   "execution_count": 110,
   "id": "b99919e5-8994-48b6-9f7d-cd895c1ce0e2",
   "metadata": {},
   "outputs": [
    {
     "data": {
      "text/plain": [
       "[array([ 0.53343735, -0.73507031, -0.41846891]),\n",
       " array([-0.86086797, -0.06243918, -0.50498179]),\n",
       " array([-0.8908003 ,  0.35190352, -0.2874665 ])]"
      ]
     },
     "execution_count": 110,
     "metadata": {},
     "output_type": "execute_result"
    }
   ],
   "source": [
    "## prediction of Sun direction in body frame?\n",
    "\n",
    "[all_rot[i].T@sunvec_hall[i] for i in range(3)]"
   ]
  },
  {
   "cell_type": "markdown",
   "id": "ebb7fa18-00c9-48a6-94a1-5045e9ca7e58",
   "metadata": {
    "tags": []
   },
   "source": [
    "### finding proper sun direction\n",
    "\n",
    "- fix the magnetic field direction\n",
    "- est. angle between sun and magnet\n",
    "- vary \"azimuth\" of sun vector to fit best the observation"
   ]
  },
  {
   "cell_type": "code",
   "execution_count": 46,
   "id": "adb4bf0a-a11f-41de-b200-8c9afdc22dc7",
   "metadata": {},
   "outputs": [],
   "source": [
    "angle=[np.arccos(np.dot(mag_inter(dt[i]),sunvec_hall[i])) for i in range(len(dt))]\n",
    "#pl.plot(np.rad2deg(angle))\n",
    "angle=np.mean(angle) #changes negligeable"
   ]
  },
  {
   "cell_type": "code",
   "execution_count": 50,
   "id": "605b6de1-886d-4176-8b4f-39dbd65bfaee",
   "metadata": {},
   "outputs": [],
   "source": [
    "#pl.plot(np.rad2deg(angle))\n",
    "angle=np.mean(angle) #changes negligeable"
   ]
  },
  {
   "cell_type": "code",
   "execution_count": 97,
   "id": "8bdeeceb-88a3-4847-9802-151ebd9a8343",
   "metadata": {},
   "outputs": [],
   "source": [
    "mbody=[m/norm(m) for m in mags]\n",
    "phi=np.r_[:2*np.pi:40j]\n",
    "j=3\n",
    "wee=np.array([np.cos(angle),np.sin(angle)*np.cos(phi[j]),np.sin(angle)*np.sin(phi[j])])"
   ]
  },
  {
   "cell_type": "code",
   "execution_count": 98,
   "id": "d27ee0e8-9f37-4803-b491-70e1ac5b497a",
   "metadata": {},
   "outputs": [
    {
     "data": {
      "text/plain": [
       "1.6133322232921679"
      ]
     },
     "execution_count": 98,
     "metadata": {},
     "output_type": "execute_result"
    }
   ],
   "source": [
    "rmatx=triad(mbody[j],[0,0,1])\n",
    "sun_ex=rmatx.T@wee\n",
    "np.arccos(np.dot(sun_ex,mbody[j]))"
   ]
  },
  {
   "cell_type": "code",
   "execution_count": 99,
   "id": "25fc2e1f-d42c-4422-b831-1549be080c37",
   "metadata": {},
   "outputs": [
    {
     "data": {
      "text/plain": [
       "[[<matplotlib.lines.Line2D at 0x7f8fa7bcb310>],\n",
       " [<matplotlib.lines.Line2D at 0x7f8fa7bb4ca0>],\n",
       " [<matplotlib.lines.Line2D at 0x7f8fa7bb5150>]]"
      ]
     },
     "execution_count": 99,
     "metadata": {},
     "output_type": "execute_result"
    },
    {
     "data": {
      "image/png": "[encoded data removed]",
      "text/plain": [
       "<Figure size 432x288 with 1 Axes>"
      ]
     },
     "metadata": {
      "needs_background": "light"
     },
     "output_type": "display_data"
    }
   ],
   "source": [
    "#np.allclose(rmatx.T@rmatx,np.eye(3)) # rmatx is orthonormal\n",
    "awee=np.array([np.cos(angle)*np.ones_like(phi),np.sin(angle)*np.cos(phi),np.sin(angle)*np.sin(phi)])\n",
    "asun=rmatx.T@awee # in body frame\n",
    "[pl.plot(s) for s in asun]"
   ]
  },
  {
   "cell_type": "markdown",
   "id": "af59e461-d4da-4635-8a11-e4a2ab79ecba",
   "metadata": {},
   "source": [
    "### try some model"
   ]
  },
  {
   "cell_type": "code",
   "execution_count": 51,
   "id": "ddc74637-b4e1-413b-9619-b5e4892c0737",
   "metadata": {},
   "outputs": [
    {
     "data": {
      "text/plain": [
       "[<matplotlib.lines.Line2D at 0x7f8fa7db1840>]"
      ]
     },
     "execution_count": 51,
     "metadata": {},
     "output_type": "execute_result"
    },
    {
     "data": {
      "image/png": "[encoded data removed]",
      "text/plain": [
       "<Figure size 432x288 with 1 Axes>"
      ]
     },
     "metadata": {
      "needs_background": "light"
     },
     "output_type": "display_data"
    }
   ],
   "source": [
    "amp=3e5\n",
    "mang=55\n",
    "zex=2.3\n",
    "viewang=lambda ang:(abs(ang)<mang)*(1-(abs(ang)/mang)**zex)*amp\n",
    "angs=np.r_[-100:100:5]\n",
    "pl.plot(angs,[viewang(a) for a in angs])"
   ]
  },
  {
   "cell_type": "code",
   "execution_count": 103,
   "id": "3350ce6e-b51d-4f32-a994-1de23f7b375e",
   "metadata": {},
   "outputs": [
    {
     "data": {
      "text/plain": [
       "<matplotlib.legend.Legend at 0x7f8fa76e14e0>"
      ]
     },
     "execution_count": 103,
     "metadata": {},
     "output_type": "execute_result"
    },
    {
     "data": {
      "image/png": "[encoded data removed]",
      "text/plain": [
       "<Figure size 432x288 with 1 Axes>"
      ]
     },
     "metadata": {
      "needs_background": "light"
     },
     "output_type": "display_data"
    }
   ],
   "source": [
    "xp,xm=viewang(np.rad2deg(np.arccos(asun[0]))),viewang(180-np.rad2deg(np.arccos(asun[0])))\n",
    "yp,ym=viewang(np.rad2deg(np.arccos(asun[1]))),viewang(180-np.rad2deg(np.arccos(asun[1])))\n",
    "zm=viewang(180-np.rad2deg(np.arccos(asun[2])))\n",
    "pl.plot(phi,xp,phi,xm)\n",
    "pl.plot(phi,yp,phi,ym)\n",
    "pl.plot(phi,zm)\n",
    "pl.title(\"one rotation along magnetic axis\")\n",
    "pl.legend(\"x+ x- y+ y- z-\".split())"
   ]
  },
  {
   "cell_type": "raw",
   "id": "f3f7c065-83fd-4d86-8a5b-c78e31437ea5",
   "metadata": {},
   "source": [
    "from healpy import ang2vec\n",
    "angs=ang2vec(1.9,1.5)\n",
    "sides=[[np.pi/2,np.pi/2*i] for i in range(4)]+[[np.pi,0]]\n",
    "vides=[ang2vec(*n) for n in sides]\n",
    "#q=ang2vec(*sides[2])\n",
    "zmall=[]\n",
    "for ph in np.r_[0:10:0.1]:\n",
    "    angs=ang2vec(1.9+0.2*np.sin(ph),ph)\n",
    "    ang2=ang2vec(2.2+0.2*np.sin(ph+0.25),ph+0.5)\n",
    "    sunset=np.array([viewang(np.arccos(sum(angs*v))*180/np.pi) for v in vides])\n",
    "    zmall.append(sunset+[2e4*(1+sum(ang2*v)) for v in vides])\n",
    "zmall=np.array(zmall).T\n",
    "[pl.plot(q) for q in zmall]"
   ]
  },
  {
   "cell_type": "code",
   "execution_count": 111,
   "id": "c9eb71b6-8d18-48e5-9930-4d084aa9825c",
   "metadata": {},
   "outputs": [],
   "source": [
    "tle_all=open(\"/home/limu/Code/Notebook/Astro/alpha/ephem/tle_all.txt\").readlines()\n",
    "tle_arr=[tle_all[4*i+1].replace('-','.').replace('+','.').split()[3:]+tle_all[4*i+2].replace('-','.').split()[2:] for i in range(len(tle_all)//4)]"
   ]
  },
  {
   "cell_type": "code",
   "execution_count": 140,
   "id": "3f341982-6bf0-4e05-ad65-225a6dae4eaf",
   "metadata": {},
   "outputs": [
    {
     "name": "stdout",
     "output_type": "stream",
     "text": [
      "GRBALPHA                \n",
      "1 47959U 21022AD  22047.50776378  .00003147  00000+0  21647-3 0  9996\n",
      "2 47959  97.5424 309.6188 0020571 194.7841 268.3098 15.06467169 48600\n",
      "\n",
      "GRBALPHA                \n",
      "1 47959U 21022AD  22063.19213865  .00002067  00000+0  14319-3 0  9994\n",
      "2 47959  97.5413 324.9761 0022167 141.3192  11.3230 15.06545409 50965\n",
      "\n"
     ]
    }
   ],
   "source": [
    "tle_grb=''.join([t[30:] for t in tle_all[-3:]])\n",
    "tle_pre=''.join([t[30:] for t in tle_all[-7:-4]])\n",
    "\n",
    "print(tle_pre)\n",
    "print(tle_grb)"
   ]
  },
  {
   "cell_type": "code",
   "execution_count": 141,
   "id": "a4a7468a-1a3a-4432-9c92-48995ff3a867",
   "metadata": {},
   "outputs": [],
   "source": [
    "tle_grb=''.join([t[30:] for t in tle_all[-3:]])\n",
    "tle_grb='''GRBALPHA\n",
    "1 47959U 21022AD  22089.06574127  .00004075  00000-0  27671-3 0  9996\n",
    "2 47959  97.5376 350.3030 0022746  59.5456 300.8062 15.06733026 54867'''\n",
    "now=datetime.now()\n",
    "trans=predict.transits(tle_grb,qth,now.timestamp(),(now+timedelta(0,1e6)).timestamp())\n",
    "trans=[t for t in trans if t.peak()['elevation']>10]"
   ]
  },
  {
   "cell_type": "code",
   "execution_count": 163,
   "id": "3573f860-4505-4f40-8315-03981e4ee231",
   "metadata": {},
   "outputs": [
    {
     "data": {
      "text/plain": [
       "datetime.datetime(2022, 3, 31, 21, 5, 54, 581940, tzinfo=datetime.timezone.utc)"
      ]
     },
     "execution_count": 163,
     "metadata": {},
     "output_type": "execute_result"
    }
   ],
   "source": [
    "from datetime import timezone#.utc as utc\n",
    "timezone.utc\n",
    "#now.tzinfo\n",
    "#timezone.timezone('Europe/Prague')\n",
    "t=trans[2]\n",
    "datetime.fromtimestamp(t.start,timezone.utc)#.tzinfo"
   ]
  },
  {
   "cell_type": "code",
   "execution_count": 158,
   "id": "a882fd1e-1131-459e-b173-72e23ed77c99",
   "metadata": {},
   "outputs": [
    {
     "data": {
      "text/plain": [
       "datetime.timezone.utc"
      ]
     },
     "execution_count": 158,
     "metadata": {},
     "output_type": "execute_result"
    }
   ],
   "source": [
    "t."
   ]
  },
  {
   "cell_type": "code",
   "execution_count": 164,
   "id": "3b9d08a6-3cc3-458a-b4a4-53cdce1dbbf4",
   "metadata": {},
   "outputs": [
    {
     "data": {
      "text/plain": [
       "[['2022-03-31 07:59:41', '2022-03-31 08:05:17', '2022-03-31 08:10:55'],\n",
       " ['2022-03-31 09:34:18', '2022-03-31 09:39:55', '2022-03-31 09:45:36'],\n",
       " ['2022-03-31 21:05:54', '2022-03-31 21:11:37', '2022-03-31 21:17:21'],\n",
       " ['2022-03-31 22:40:35', '2022-03-31 22:46:17', '2022-03-31 22:52:01'],\n",
       " ['2022-04-01 07:54:18', '2022-04-01 07:59:49', '2022-04-01 08:05:23'],\n",
       " ['2022-04-01 09:28:42', '2022-04-01 09:34:24', '2022-04-01 09:40:13'],\n",
       " ['2022-04-01 21:00:27', '2022-04-01 21:06:06', '2022-04-01 21:11:44'],\n",
       " ['2022-04-01 22:35:03', '2022-04-01 22:40:49', '2022-04-01 22:46:35'],\n",
       " ['2022-04-02 07:48:55', '2022-04-02 07:54:22', '2022-04-02 07:59:50'],\n",
       " ['2022-04-02 09:23:07', '2022-04-02 09:28:52', '2022-04-02 09:34:41'],\n",
       " ['2022-04-02 20:55:01', '2022-04-02 21:00:33', '2022-04-02 21:06:06'],\n",
       " ['2022-04-02 22:29:30', '2022-04-02 22:35:21', '2022-04-02 22:41:13'],\n",
       " ['2022-04-03 07:43:34', '2022-04-03 07:48:54', '2022-04-03 07:54:17'],\n",
       " ['2022-04-03 09:17:32', '2022-04-03 09:23:20', '2022-04-03 09:29:13'],\n",
       " ['2022-04-03 20:49:33', '2022-04-03 20:55:00', '2022-04-03 21:00:26'],\n",
       " ['2022-04-03 22:23:58', '2022-04-03 22:29:52', '2022-04-03 22:35:48'],\n",
       " ['2022-04-04 07:38:12', '2022-04-04 07:43:26', '2022-04-04 07:48:43'],\n",
       " ['2022-04-04 09:11:57', '2022-04-04 09:17:47', '2022-04-04 09:23:43'],\n",
       " ['2022-04-04 20:44:07', '2022-04-04 20:49:25', '2022-04-04 20:54:49'],\n",
       " ['2022-04-04 22:18:25', '2022-04-04 22:24:22', '2022-04-04 22:30:21'],\n",
       " ['2022-04-05 07:32:51', '2022-04-05 07:37:58', '2022-04-05 07:43:07'],\n",
       " ['2022-04-05 09:06:22', '2022-04-05 09:12:15', '2022-04-05 09:18:18'],\n",
       " ['2022-04-05 20:38:40', '2022-04-05 20:43:51', '2022-04-05 20:49:01'],\n",
       " ['2022-04-05 22:12:52', '2022-04-05 22:18:51', '2022-04-05 22:24:53'],\n",
       " ['2022-04-06 07:27:31', '2022-04-06 07:32:30', '2022-04-06 07:37:31'],\n",
       " ['2022-04-06 09:00:48', '2022-04-06 09:06:42', '2022-04-06 09:12:42'],\n",
       " ['2022-04-06 20:33:14', '2022-04-06 20:38:15', '2022-04-06 20:43:17'],\n",
       " ['2022-04-06 22:07:18', '2022-04-06 22:13:20', '2022-04-06 22:19:24'],\n",
       " ['2022-04-07 07:22:11', '2022-04-07 07:27:01', '2022-04-07 07:31:55'],\n",
       " ['2022-04-07 08:55:14', '2022-04-07 09:01:09', '2022-04-07 09:07:15'],\n",
       " ['2022-04-07 20:27:48', '2022-04-07 20:32:39', '2022-04-07 20:37:30'],\n",
       " ['2022-04-07 22:01:45', '2022-04-07 22:07:48', '2022-04-07 22:13:53'],\n",
       " ['2022-04-08 07:16:51', '2022-04-08 07:21:33', '2022-04-08 07:26:09'],\n",
       " ['2022-04-08 08:49:41', '2022-04-08 08:55:36', '2022-04-08 09:01:33'],\n",
       " ['2022-04-08 21:56:11', '2022-04-08 22:02:16', '2022-04-08 22:08:22'],\n",
       " ['2022-04-08 23:31:36', '2022-04-08 23:36:16', '2022-04-08 23:41:03'],\n",
       " ['2022-04-09 07:11:32', '2022-04-09 07:16:04', '2022-04-09 07:20:39'],\n",
       " ['2022-04-09 08:44:08', '2022-04-09 08:50:03', '2022-04-09 08:56:04'],\n",
       " ['2022-04-09 21:50:37', '2022-04-09 21:56:42', '2022-04-09 22:02:49'],\n",
       " ['2022-04-09 23:25:57', '2022-04-09 23:30:47', '2022-04-09 23:35:39'],\n",
       " ['2022-04-10 08:38:35', '2022-04-10 08:44:29', '2022-04-10 08:50:30'],\n",
       " ['2022-04-10 10:14:59', '2022-04-10 10:19:40', '2022-04-10 10:24:17'],\n",
       " ['2022-04-10 21:45:02', '2022-04-10 21:51:08', '2022-04-10 21:57:12'],\n",
       " ['2022-04-10 23:20:17', '2022-04-10 23:25:17', '2022-04-10 23:30:19'],\n",
       " ['2022-04-11 08:33:02', '2022-04-11 08:38:55', '2022-04-11 08:44:55'],\n",
       " ['2022-04-11 10:09:10', '2022-04-11 10:14:02', '2022-04-11 10:18:59']]"
      ]
     },
     "execution_count": 164,
     "metadata": {},
     "output_type": "execute_result"
    }
   ],
   "source": [
    "[[datetime.fromtimestamp(tx,timezone.utc).isoformat()[:19].replace('T',' ') for tx in [t.start,t.peak()['epoch'],t.end]] for t in trans]"
   ]
  },
  {
   "cell_type": "code",
   "execution_count": 137,
   "id": "29d61708-03a7-4099-a8fe-6996221c8c27",
   "metadata": {},
   "outputs": [
    {
     "data": {
      "text/plain": [
       "[[30.26700840060742, 47.63681448991617],\n",
       " [7.960808181754809, 51.77802536868361],\n",
       " [30.673422102159176, 50.73302613435653],\n",
       " [8.024055988582639, 47.401503419054954],\n",
       " [31.58943610118873, 47.53623529020904],\n",
       " [9.172522367930265, 51.42273261835373],\n",
       " [31.900874823228353, 51.06174015439435],\n",
       " [9.360208977055288, 47.468054875587406],\n",
       " [32.918426255510006, 47.45097226194593],\n",
       " [10.39322967893953, 51.082455440309126],\n",
       " [33.12112874171197, 51.40651248902428],\n",
       " [10.692877257620141, 47.54700260677993],\n",
       " [34.25367664936174, 47.380305493306246],\n",
       " [11.622578189314734, 50.75702063500734],\n",
       " [34.33434809748037, 51.766208253428964],\n",
       " [12.020836064517486, 47.641640713478346],\n",
       " [35.595652993387375, 47.32563602430609],\n",
       " [12.859981912254797, 50.44559614177176],\n",
       " [35.5396694826073, 52.14212163152631],\n",
       " [13.343913663791795, 47.752290367760146],\n",
       " [36.94336484065068, 47.284267891220445],\n",
       " [14.105538216215635, 50.148999818398025],\n",
       " [36.73724375517153, 52.533035540997616],\n",
       " [14.663100076757008, 47.87604267698064],\n",
       " [38.29901183524418, 47.26242143058366],\n",
       " [15.358317426395384, 49.86539171599014],\n",
       " [37.92721692365879, 52.93774019790345],\n",
       " [15.976942295832286, 48.016710111149145],\n",
       " [39.66127536341501, 47.25643320856909],\n",
       " [16.618454973899, 49.59558111853535],\n",
       " [39.10759654507136, 53.359850129142536],\n",
       " [17.286043406771054, 48.17240125760465],\n",
       " [41.029876317737845, 47.26552501148552],\n",
       " [17.88584714186963, 49.339741966687285],\n",
       " [40.279058981476346, 53.79673117253898],\n",
       " [18.58969743849097, 48.34478406713182],\n",
       " [42.40585707230264, 47.292600209446505],\n",
       " [19.160475436970195, 49.09824110537422],\n",
       " [41.440732628035484, 54.249197916950585],\n",
       " [19.889336268027023, 48.529695729406875],\n",
       " [43.78928062332067, 47.337783607540715],\n",
       " [20.442189721552545, 48.8710700052654],\n",
       " [359.0785777065538, 54.91968072364851],\n",
       " [42.59205057582467, 54.717248222551],\n",
       " [21.182960300888258, 48.732236072773645],\n",
       " [21.73133644603756, 48.65951589120877],\n",
       " [0.22885265076207337, 54.45470919082982],\n",
       " [22.470283954562976, 48.9527792844338]]"
      ]
     },
     "execution_count": 137,
     "metadata": {},
     "output_type": "execute_result"
    }
   ],
   "source": [
    "gpos=lambda p:[p[\"longitude\"],p[\"latitude\"]]\n",
    "[gpos(t.peak()) for t in trans]"
   ]
  },
  {
   "cell_type": "markdown",
   "id": "eed84b17-91ff-4114-a966-0dd0fe2bc088",
   "metadata": {},
   "source": [
    "### statistics of other HK data"
   ]
  },
  {
   "cell_type": "code",
   "execution_count": 123,
   "id": "33ebd5c6-912f-4795-ad13-28bf83afd8ab",
   "metadata": {},
   "outputs": [
    {
     "data": {
      "text/plain": [
       "[<matplotlib.lines.Line2D at 0x7f8fa7f07d30>]"
      ]
     },
     "execution_count": 123,
     "metadata": {},
     "output_type": "execute_result"
    },
    {
     "data": {
      "image/png": "[encoded data removed]",
      "text/plain": [
       "<Figure size 432x288 with 1 Axes>"
      ]
     },
     "metadata": {
      "needs_background": "light"
     },
     "output_type": "display_data"
    }
   ],
   "source": [
    "set1=np.loadtxt(\"/home/limu/Space/logs/sun_columns_s1.txt\").T\n",
    "set2=np.loadtxt(\"/home/limu/Space/logs/sun_columns_s2.txt\").T\n",
    "aset=np.r_[set1,set2]\n",
    "pl.plot(aset[:,1])"
   ]
  },
  {
   "cell_type": "code",
   "execution_count": 129,
   "id": "7e101093-a6cd-4ac1-8108-3673f843e42d",
   "metadata": {},
   "outputs": [
    {
     "data": {
      "image/png": "[encoded data removed]",
      "text/plain": [
       "<Figure size 432x288 with 1 Axes>"
      ]
     },
     "metadata": {
      "needs_background": "light"
     },
     "output_type": "display_data"
    }
   ],
   "source": [
    "ssel=aset[:,0]*aset[:,1]>1000\n",
    "pl.hist(aset[ssel,1],20);\n",
    "pl.hist(aset[ssel,3],20);"
   ]
  },
  {
   "cell_type": "code",
   "execution_count": 130,
   "id": "f7038fd0-ea98-4b8d-91e4-a5c98973834e",
   "metadata": {},
   "outputs": [
    {
     "data": {
      "image/png": "[encoded data removed]",
      "text/plain": [
       "<Figure size 432x288 with 1 Axes>"
      ]
     },
     "metadata": {
      "needs_background": "light"
     },
     "output_type": "display_data"
    }
   ],
   "source": [
    "pl.hist(aset[ssel,0],20);\n",
    "pl.hist(aset[ssel,2],20);"
   ]
  },
  {
   "cell_type": "code",
   "execution_count": 131,
   "id": "aa594daf-d97b-4f26-ab87-c7af555917c0",
   "metadata": {},
   "outputs": [
    {
     "data": {
      "image/png": "[encoded data removed]",
      "text/plain": [
       "<Figure size 432x288 with 1 Axes>"
      ]
     },
     "metadata": {
      "needs_background": "light"
     },
     "output_type": "display_data"
    }
   ],
   "source": [
    "pl.hist(aset[ssel,4],20);"
   ]
  },
  {
   "cell_type": "code",
   "execution_count": 132,
   "id": "aded56ee-bf72-4b9d-8687-1714a85bb8dd",
   "metadata": {},
   "outputs": [
    {
     "data": {
      "text/plain": [
       "[array([12296.2, 38926.6]),\n",
       " array([ 9450. , 22220.4]),\n",
       " array([13567., 42526.]),\n",
       " array([11285.3, 21726.4]),\n",
       " array([11084. , 40996.5])]"
      ]
     },
     "execution_count": 132,
     "metadata": {},
     "output_type": "execute_result"
    }
   ],
   "source": [
    "def get_perc(x,pval=[10,90],xmin=7000):\n",
    "    xsel=x>xmin\n",
    "    return np.percentile(x[xsel],pval)\n",
    "[get_perc(s) for s in aset.T]"
   ]
  },
  {
   "cell_type": "code",
   "execution_count": 133,
   "id": "f3ef9fb1-0c2e-4ee3-b7e7-f7be6a002ec1",
   "metadata": {},
   "outputs": [
    {
     "data": {
      "text/plain": [
       "12"
      ]
     },
     "execution_count": 133,
     "metadata": {},
     "output_type": "execute_result"
    }
   ],
   "source": [
    "sum(aset[:,4]>40000)"
   ]
  },
  {
   "cell_type": "code",
   "execution_count": null,
   "id": "81b502e8-33b9-4eb9-b9ba-90d1a62c6ddc",
   "metadata": {},
   "outputs": [],
   "source": []
  }
 ],
 "metadata": {
  "kernelspec": {
   "display_name": "Python 3 (ipykernel)",
   "language": "python",
   "name": "python3"
  },
  "language_info": {
   "codemirror_mode": {
    "name": "ipython",
    "version": 3
   },
   "file_extension": ".py",
   "mimetype": "text/x-python",
   "name": "python",
   "nbconvert_exporter": "python",
   "pygments_lexer": "ipython3",
   "version": "3.10.2"
  },
  "toc-autonumbering": false,
  "toc-showcode": false,
  "toc-showmarkdowntxt": false,
  "toc-showtags": false
 },
 "nbformat": 4,
 "nbformat_minor": 5
}
