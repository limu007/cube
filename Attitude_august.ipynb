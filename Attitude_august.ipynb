{
 "cells": [
  {
   "cell_type": "markdown",
   "id": "c28a87f3-29b4-46bd-8673-4ae03532f78a",
   "metadata": {},
   "source": [
    "### load data from august campaign"
   ]
  },
  {
   "cell_type": "code",
   "execution_count": 2,
   "id": "23074210-c19d-434d-b5b8-ae4e9ae3c680",
   "metadata": {},
   "outputs": [
    {
     "data": {
      "text/plain": [
       "Index(['RealTimeStamp', 'DK EpochTimeStamp [s]', 'DK TimeStamp', 'CunkID',\n",
       "       'ChunkType', 'Length [B]', 'LdSt magX [nT]', 'LdSt magY [nT]',\n",
       "       'LdSt magZ [nT]', 'LdStTot [nT]', 'OBC magX [nT]', 'OBC magY [nT]',\n",
       "       'OBC magZ [nT]', 'OBCtot [nT]', 'OBC_9DOF_Temp [*C]',\n",
       "       'OBCgyroX [deg/s]', 'OBCgyroY [deg/s]', 'OBCgyroZ [deg/s]',\n",
       "       'OBCaccX [mG]', 'OBCaccY [mG]', 'OBCaccZ [mG]', 'SolT X+ [*C]',\n",
       "       'SolT Y+ [*C]', 'SolT X- [*C]', 'SolT Y- [*C]', 'SolT Z- [*C]',\n",
       "       'OBC_Temp [*C]', 'ssTemp(X+) [*C]', 'ssTemp(Y+) [*C]',\n",
       "       'ssTemp(X-) [*C]', 'ssTemp(Y-) [*C]', 'ssTemp(Z-) [*C]', 'ssIRRad(X+)',\n",
       "       'ssIRRad(Y+)', 'ssIRRad(X-)', 'ssIRRad(Y-)', 'ssIRRad(Z-)',\n",
       "       'ssAngleX (X+) [deg]', 'ssAngleY (X+) [deg]', 'ssAngleX (Y+) [deg]',\n",
       "       'ssAngleY (Y+) [deg]', 'ssAngleX (X-) [deg]', 'ssAngleY (X-) [deg]',\n",
       "       'ssAngleX (Y-) [deg]', 'ssAngleY (Y-) [deg]', 'ssAngleX (Z-) [deg]',\n",
       "       'ssAngleY (Z-) [deg]', 'ssGyroX (X+) [deg/s]', 'ssGyroY (X+) [deg/s]',\n",
       "       'ssGyroX (Y+) [deg/s]', 'ssGyroY (Y+) [deg/s]', 'ssGyroX (X-) [deg/s]',\n",
       "       'ssGyroY (X-) [deg/s]', 'ssGyroX (Y-) [deg/s]', 'ssGyroY (Y-) [deg/s]',\n",
       "       'ssGyroX (Z-) [deg/s]', 'ssGyroY (Z-) [deg/s]'],\n",
       "      dtype='object')"
      ]
     },
     "execution_count": 2,
     "metadata": {},
     "output_type": "execute_result"
    }
   ],
   "source": [
    "indir=\"/home/limu/Lab/Alpha/station/processed_jr/\"\n",
    "date='2021-08-10'\n",
    "import os\n",
    "import pandas as pd\n",
    "#aug1=pd.read_csv(indir+date+'/hk_data_decoded.txt',delimiter='\\t')\n",
    "aug1=pd.read_csv(\"/home/limu/Space/logs/alpha/hk_data_august_last.txt\",delimiter='\\t')\n",
    "aug1.columns"
   ]
  },
  {
   "cell_type": "code",
   "execution_count": 4,
   "id": "f68697a4-fd57-472f-944e-f0925e7e0680",
   "metadata": {},
   "outputs": [],
   "source": [
    "mok=aug1\n",
    "%matplotlib inline\n",
    "import matplotlib.pyplot as pl\n",
    "import numpy as np\n",
    "from datetime import datetime,timedelta\n",
    "mags=np.array([np.array(mok[mok.columns[6+i]]) for i in range(3)]).T\n",
    "mags=mags[1:-1]"
   ]
  },
  {
   "cell_type": "code",
   "execution_count": 8,
   "id": "c2422926-7a8e-4086-9c67-2ddbfa3af58b",
   "metadata": {},
   "outputs": [],
   "source": [
    "irpos=[i for i in range(len(mok.columns)) if mok.columns[i].find(\"IRR\")>0]\n",
    "rep=[]\n",
    "qth = (48.7408,-21.2284,380)\n",
    "from astropy import coordinates as coord\n",
    "from astropy import units as u\n",
    "import predict\n",
    "tle= \"\"\"GRBALPHA                \n",
    "1 47959U 21022AD  22063.19213865  .00002067  00000+0  14319-3 0  9994\n",
    "2 47959  97.5413 324.9761 0022167 141.3192  11.3230 15.06545409 50965\"\"\"\n",
    "pars=['longitude','latitude','altitude','epoch']\n",
    "kosice=coord.EarthLocation.from_geodetic(qth[1],qth[0],qth[2])#,unit=(u.degree, u.degree,u.meter))\n",
    "kosrad=np.sqrt(sum(np.array(kosice.value.tolist())**2))*1e-3 #earth distance in km\n",
    "\n",
    "for d in mok['DK TimeStamp']:\n",
    "    x=datetime.strptime(d,\"%d-%m-%Y %H:%M:%S\")\n",
    "    y=predict.observe(tle, qth, at=x.timestamp())\n",
    "    rep.append([y['longitude'],y['latitude'],y['altitude']])\n",
    "rep=np.array(rep).T\n",
    "if rep[0].max()-rep[0].min()>200:rep[0]=(rep[0]+180)%360-180"
   ]
  },
  {
   "cell_type": "code",
   "execution_count": 10,
   "id": "d88cde1c-8e45-4067-996e-4844133396d8",
   "metadata": {},
   "outputs": [
    {
     "ename": "ModuleNotFoundError",
     "evalue": "No module named 'periodogram'",
     "output_type": "error",
     "traceback": [
      "\u001b[0;31m---------------------------------------------------------------------------\u001b[0m",
      "\u001b[0;31mModuleNotFoundError\u001b[0m                       Traceback (most recent call last)",
      "\u001b[0;32m/tmp/ipykernel_375338/2755449669.py\u001b[0m in \u001b[0;36m<module>\u001b[0;34m\u001b[0m\n\u001b[0;32m----> 1\u001b[0;31m \u001b[0;32mfrom\u001b[0m \u001b[0mperiodogram\u001b[0m \u001b[0;32mimport\u001b[0m \u001b[0mget_mag_dir\u001b[0m\u001b[0;34m\u001b[0m\u001b[0;34m\u001b[0m\u001b[0m\n\u001b[0m\u001b[1;32m      2\u001b[0m \u001b[0;34m\u001b[0m\u001b[0m\n\u001b[1;32m      3\u001b[0m \u001b[0mpomag\u001b[0m\u001b[0;34m=\u001b[0m\u001b[0;34m[\u001b[0m\u001b[0;34m]\u001b[0m\u001b[0;34m\u001b[0m\u001b[0;34m\u001b[0m\u001b[0m\n\u001b[1;32m      4\u001b[0m \u001b[0;32mfor\u001b[0m \u001b[0mi\u001b[0m \u001b[0;32min\u001b[0m \u001b[0;34m[\u001b[0m\u001b[0;36m0\u001b[0m\u001b[0;34m,\u001b[0m\u001b[0mlen\u001b[0m\u001b[0;34m(\u001b[0m\u001b[0mrep\u001b[0m\u001b[0;34m)\u001b[0m\u001b[0;34m-\u001b[0m\u001b[0;36m1\u001b[0m\u001b[0;34m]\u001b[0m\u001b[0;34m:\u001b[0m\u001b[0;34m\u001b[0m\u001b[0;34m\u001b[0m\u001b[0m\n\u001b[1;32m      5\u001b[0m     \u001b[0mday\u001b[0m\u001b[0;34m=\u001b[0m\u001b[0mmok\u001b[0m\u001b[0;34m[\u001b[0m\u001b[0;34m'DK TimeStamp'\u001b[0m\u001b[0;34m]\u001b[0m\u001b[0;34m[\u001b[0m\u001b[0mi\u001b[0m\u001b[0;34m]\u001b[0m\u001b[0;34m.\u001b[0m\u001b[0msplit\u001b[0m\u001b[0;34m(\u001b[0m\u001b[0;34m' '\u001b[0m\u001b[0;34m)\u001b[0m\u001b[0;34m[\u001b[0m\u001b[0;36m0\u001b[0m\u001b[0;34m]\u001b[0m\u001b[0;34m\u001b[0m\u001b[0;34m\u001b[0m\u001b[0m\n",
      "\u001b[0;31mModuleNotFoundError\u001b[0m: No module named 'periodogram'"
     ]
    }
   ],
   "source": [
    "from periodogram import get_mag_dir\n",
    "\n",
    "pomag=[]\n",
    "for i in [0,len(rep)-1]:\n",
    "    day=mok['DK TimeStamp'][i].split(' ')[0]\n",
    "    day='-'.join(day.split('-')[::-1])\n",
    "    pomag.append(get_mag_dir(day,rep[0][i],rep[1][i],rep[2][i]))\n",
    "    \n",
    "pom1,pom2=pomag[0],pomag[-1]\n",
    "vecs=[np.array([dic[t+'-intensity'] for t in ['east','north','vertical']]) for dic in pomag]#'declination'] \n",
    "norm=lambda v:np.sqrt(np.dot(v,v))\n",
    "nvecs=[v/norm(v) for v in vecs]\n",
    "nvecs"
   ]
  },
  {
   "cell_type": "code",
   "execution_count": null,
   "id": "fcc1fde6-ea92-4566-a0b8-c03088b595a9",
   "metadata": {},
   "outputs": [],
   "source": []
  }
 ],
 "metadata": {
  "kernelspec": {
   "display_name": "Python 3 (ipykernel)",
   "language": "python",
   "name": "python3"
  },
  "language_info": {
   "codemirror_mode": {
    "name": "ipython",
    "version": 3
   },
   "file_extension": ".py",
   "mimetype": "text/x-python",
   "name": "python",
   "nbconvert_exporter": "python",
   "pygments_lexer": "ipython3",
   "version": "3.10.2"
  }
 },
 "nbformat": 4,
 "nbformat_minor": 5
}
